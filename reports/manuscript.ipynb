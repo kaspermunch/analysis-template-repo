{
 "cells": [
  {
   "cell_type": "markdown",
   "id": "d8cc5e08-d1f1-4b60-8b7b-02a5fb856791",
   "metadata": {},
   "source": [
    "\n",
    "# Manuscript\n",
    "\n",
    "## Abstract\n",
    "\n",
    "This is my report about Denmark... blah, blah, blah, blah, blah, blah, blah, blah, blah, blah, blah, blah, blah, blah, blah, blah, blah, blah, blah, blah, blah, blah, blah, blah, blah, blah, blah, blah, blah, blah, blah, blah, blah, blah, blah, blah, blah, blah, blah\n",
    "\n",
    "## Introduction\n",
    "\n",
    "Denmark is .... blah, blah, blah, blah, blah, blah, blah, blah, blah, blah, blah, blah, blah, blah, blah, blah, blah, blah, blah, blah, blah, blah, blah, blah, blah, blah, blah, blah, blah, blah, blah, blah, blah, blah, blah, blah, blah, blah, blah, blah, blah, blah, blah, blah, blah\n",
    "\n",
    "## Results\n",
    "\n",
    "### Weather\n",
    "\n",
    "As shown in @fig-danish-weather, the Danish weather is blah, blah, blah, blah, blah, blah, blah, blah, blah, blah, blah, blah, blah, blah, blah, blah, blah, blah, blah, blah, blah, blah, blah, blah, blah, blah, blah, blah, blah, blah, blah, blah, blah, blah, blah, blah, blah, blah, blah, blah, blah, blah, blah, blah, blah.\n",
    "\n",
    "{{< embed ../notebooks/01_weather.ipynb#fig-danish-weather >}}\n",
    "\n",
    "### Social norms\n",
    "\n",
    "In Denmark, the workplace interaction is very informal and largely unaffected by seniority and age. \n",
    "\n",
    "{{< embed ../notebooks/02_interaction.ipynb#doc-sampling echo=false >}}\n",
    "\n",
    "I found that neither academic seniority or age of workplace individuals much affected how informal our interaction was (see @fig-danish-interaction). \n",
    "\n",
    "{{< embed ../notebooks/02_interaction.ipynb#fig-danish-interaction >}}\n",
    "\n",
    "<!-- a bug in quarto does not allow successive embeds witout somthing in between (like this) -->\n",
    "\n",
    "{{< embed ../notebooks/02_interaction.ipynb#doc-formality-correlation echo=false >}}\n",
    "\n",
    "\n",
    "## Discussion\n",
    "\n",
    "This this investigation of Danes..., blah, blah, blah, blah, blah, blah, blah, blah, blah, blah, blah, blah, blah, blah, blah, blah, blah, blah, blah, blah, blah, blah, blah, blah, blah, blah, blah, blah, blah, blah, blah, blah, blah, blah, blah, blah, blah, blah, blah, blah, blah, blah, blah, blah, blah.\n",
    "\n",
    "## Methods\n",
    "\n",
    "### Weather analysis\n",
    "\n",
    "{{< embed ../notebooks/01_weather.ipynb#doc-weather-data echo=false >}}\n",
    "\n",
    "### Interaction analysis\n",
    "\n",
    "{{< embed ../notebooks/02_interaction.ipynb#doc-interviews echo=false >}}\n",
    "\n",
    "\n",
    "\n"
   ]
  },
  {
   "cell_type": "code",
   "execution_count": null,
   "id": "5730d18b-ada0-4303-b867-ed549dcd2a06",
   "metadata": {},
   "outputs": [],
   "source": []
  }
 ],
 "metadata": {
  "kernelspec": {
   "display_name": "Python 3 (ipykernel)",
   "language": "python",
   "name": "python3"
  },
  "language_info": {
   "codemirror_mode": {
    "name": "ipython",
    "version": 3
   },
   "file_extension": ".py",
   "mimetype": "text/x-python",
   "name": "python",
   "nbconvert_exporter": "python",
   "pygments_lexer": "ipython3",
   "version": "3.12.2"
  }
 },
 "nbformat": 4,
 "nbformat_minor": 5
}
