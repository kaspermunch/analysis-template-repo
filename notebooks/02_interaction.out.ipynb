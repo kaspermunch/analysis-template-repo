{
  "cells": [
    {
      "cell_type": "markdown",
      "metadata": {},
      "source": [
        "# Workplace interaction\n",
        "\n",
        "Import some plotting libraries and set some defaults:"
      ],
      "id": "fd38fb5c-247b-46de-abe5-4837771c057b"
    },
    {
      "cell_type": "code",
      "execution_count": 1,
      "metadata": {},
      "outputs": [],
      "source": [
        "%config InlineBackend.figure_formats = ['svg'] \n",
        "from IPython.display import display, Markdown\n",
        "import matplotlib.pyplot as plt\n",
        "import seaborn as sns\n",
        "sns.set()\n",
        "sns.set_style(\"whitegrid\")\n",
        "import random\n",
        "import numpy as np\n",
        "import pandas as pd\n",
        "random_seed = 5"
      ],
      "id": "cell-3"
    },
    {
      "cell_type": "code",
      "execution_count": 2,
      "metadata": {},
      "outputs": [],
      "source": [
        "danish_people = ['Julie', 'Sofie', 'Sara', 'Cecilie', 'Emma', 'Caroline', 'Laura', 'Mathilde', 'Katrine', 'Anna', 'Emilie', 'Ida', 'Freja', 'Maria', 'Amalie', 'Camilla', 'Louise', 'Signe', 'Maja', 'Josefine', 'Line', 'Nanna', 'Anne', 'Nicoline', 'Clara', 'Victoria', 'Marie', 'Natasja', 'Lærke', 'Alberte', 'Frederikke', 'Rebecca', 'Mette', 'Rikke', 'Amanda', 'Mia', 'Kristine', 'Johanne', 'Stine', 'Simone', 'Isabella', 'Jasmin', 'Michelle', 'Pernille', 'Christina', 'Astrid', 'Sille', 'Thea', 'Mie', 'Nadia', 'Mathias','Mads','Mikkel','Rasmus','Emil','Oliver','Frederik','Christian','Nicolai','Jonas','Jacob','Kasper','Magnus','Andreas','Tobias','Simon','Lucas','Marcus', 'Victor', 'Nicklas', 'Sebastian', 'Daniel', 'Alexander', 'Anders', 'Christoffer', 'Patrick', 'Lasse', 'Benjamin', 'Thomas', 'Martin', 'Jeppe', 'Gustav', 'Peter', 'Philip', 'William', 'Oscar', 'Malthe', 'Jonathan', 'Anton', 'Morten', 'Carl', 'Søren', 'Mohammad', 'Mark', 'Jens', 'Jesper', 'David', 'Asger', 'Michael', 'Johan']\n",
        "nr_danes = len(danish_people)"
      ],
      "id": "cell-4"
    },
    {
      "cell_type": "markdown",
      "metadata": {},
      "source": [
        "## Sampling"
      ],
      "id": "7024efe5-9cef-4bd4-b07c-e0306dc46651"
    },
    {
      "cell_type": "code",
      "execution_count": 3,
      "metadata": {},
      "outputs": [],
      "source": [],
      "id": "cell-doc-sampling"
    },
    {
      "cell_type": "code",
      "execution_count": null,
      "metadata": {},
      "outputs": [],
      "source": [
        "radius = 5"
      ],
      "id": "cell-7"
    },
    {
      "cell_type": "markdown",
      "metadata": {},
      "source": [
        "Some number from a python variable: `{python} radius`"
      ],
      "id": "cdf8ecc6-6509-4cb3-9967-7a6416b12e1a"
    },
    {
      "cell_type": "code",
      "execution_count": 4,
      "metadata": {},
      "outputs": [],
      "source": [],
      "id": "cell-doc-interviews"
    },
    {
      "cell_type": "code",
      "execution_count": 5,
      "metadata": {},
      "outputs": [
        {
          "output_type": "display_data",
          "metadata": {},
          "data": {
            "text/html": [
              "\n",
              "<p>100 rows × 4 columns</p>\n",
              "</div>"
            ]
          }
        }
      ],
      "source": [
        "df = pd.DataFrame({'name': danish_people, \n",
        "                   'seniority': np.random.randint(0, 5, len(danish_people)), \n",
        "                   'age': np.random.randint(22, 67, len(danish_people))})\n",
        "df['informality'] = np.random.normal(loc=10, scale=1, size=len(danish_people))\n",
        "df\n"
      ],
      "id": "cell-10"
    },
    {
      "cell_type": "code",
      "execution_count": 6,
      "metadata": {},
      "outputs": [
        {
          "output_type": "display_data",
          "metadata": {},
          "data": {}
        }
      ],
      "source": [
        "sns.scatterplot(x='age', y='informality', data=df, hue='seniority', palette='viridis')\n",
        "plt.ylabel('How informal you can be')\n",
        "plt.xlabel('Age')\n",
        "plt.legend(title='Seniority', loc='lower right', labels=['Undergrad', 'Postgrad', 'PhD', 'Postdoc', 'Professor'])\n",
        "plt.ylim(bottom=0) ;"
      ],
      "id": "cell-fig-danish-interaction"
    },
    {
      "cell_type": "markdown",
      "metadata": {},
      "source": [
        "Seems Danish people act very informally unaffected by age and seniority."
      ],
      "id": "36a8f747-d797-4c2c-aab6-3d1cb1962f63"
    },
    {
      "cell_type": "code",
      "execution_count": 7,
      "metadata": {},
      "outputs": [
        {
          "output_type": "display_data",
          "metadata": {},
          "data": {
            "text/plain": [
              "0.0351023049128157"
            ]
          }
        }
      ],
      "source": [
        "informality_age_cor = df.informality.corr(df.age)\n",
        "informality_age_cor"
      ],
      "id": "cell-14"
    },
    {
      "cell_type": "code",
      "execution_count": 8,
      "metadata": {},
      "outputs": [
        {
          "output_type": "display_data",
          "metadata": {},
          "data": {
            "text/plain": [
              "0.12226864913588426"
            ]
          }
        }
      ],
      "source": [
        "informality_seniority_cor = df.informality.corr(df.seniority)\n",
        "informality_seniority_cor"
      ],
      "id": "cell-15"
    },
    {
      "cell_type": "code",
      "execution_count": 9,
      "metadata": {},
      "outputs": [],
      "source": [],
      "id": "cell-doc-formality-correlation"
    },
    {
      "cell_type": "code",
      "execution_count": 10,
      "metadata": {},
      "outputs": [
        {
          "output_type": "display_data",
          "metadata": {},
          "data": {}
        }
      ],
      "source": [
        "sns.lmplot(x='age', y='informality', data=df, hue='seniority', palette='viridis')\n",
        "plt.ylabel('How informal you can be')\n",
        "plt.xlabel('Age') ;"
      ],
      "id": "cell-fig-danish-interaction-regressions"
    }
  ],
  "nbformat": 4,
  "nbformat_minor": 5,
  "metadata": {
    "kernelspec": {
      "name": "python3",
      "display_name": "Python 3 (ipykernel)",
      "language": "python"
    },
    "language_info": {
      "name": "python",
      "codemirror_mode": {
        "name": "ipython",
        "version": "3"
      },
      "file_extension": ".py",
      "mimetype": "text/x-python",
      "nbconvert_exporter": "python",
      "pygments_lexer": "ipython3",
      "version": "3.12.2"
    }
  }
}