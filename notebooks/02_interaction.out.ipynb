{
  "cells": [
    {
      "cell_type": "markdown",
      "metadata": {},
      "source": [
        "# Workplace interaction\n",
        "\n",
        "Import some plotting libraries and set some defaults:"
      ],
      "id": "975e6fdc-f99e-483f-82d5-9174559c45e0"
    },
    {
      "cell_type": "code",
      "execution_count": 30,
      "metadata": {},
      "outputs": [],
      "source": [
        "import sys\n",
        "import numpy as np\n",
        "import pandas as pd\n",
        "from IPython.display import display, Markdown\n",
        "import matplotlib.pyplot as plt\n",
        "import seaborn as sns\n",
        "sns.set()\n",
        "sns.set_style(\"whitegrid\")\n",
        "\n",
        "import random\n",
        "random_seed = 5\n",
        "\n",
        "sys.path.append('..')\n",
        "from global_params import load_params"
      ],
      "id": "cell-3"
    },
    {
      "cell_type": "markdown",
      "metadata": {},
      "source": [
        "> **Tip:**  \n",
        "> Producing figures in svg format (scalable vector graphics) makes for\n",
        "> sharp plots on webpages. However, if you make plots with thousands of\n",
        "> observations you should set this to `'png'` instead:"
      ],
      "id": "b7b7e229-d30b-4d39-b96b-a211c8bb4cf7"
    },
    {
      "cell_type": "code",
      "execution_count": 31,
      "metadata": {},
      "outputs": [],
      "source": [
        "%config InlineBackend.figure_formats = ['svg'] "
      ],
      "id": "cell-5"
    },
    {
      "cell_type": "markdown",
      "metadata": {},
      "source": [
        "> **Tip:**  \n",
        "> Some values apply globally to your analysis. E.g., sample sizes,\n",
        "> cutoffs, names, rates, etc. Keeping those in a a yml file like\n",
        "> `interaction_params.yml` and loading them in each notebook avoids the\n",
        "> risk of manually adding/updating them in each notebook where they are\n",
        "> used. You can use the `load_globals` function imported above from\n",
        "> `global_params.py` to produce an object holding all the global values:"
      ],
      "id": "23842abd-e781-497c-84c1-e27e8d90b274"
    },
    {
      "cell_type": "code",
      "execution_count": 34,
      "metadata": {},
      "outputs": [
        {
          "output_type": "display_data",
          "metadata": {},
          "data": {
            "text/plain": [
              "{'questions': ['Blah blah blah',\n",
              "               'Blah blah blah',\n",
              "               'Blah blah blah',\n",
              "               'Blah blah blah'],\n",
              " 'sample_size': 24}"
            ]
          }
        }
      ],
      "source": [
        "params = load_params('../interact_params.yml')\n",
        "params"
      ],
      "id": "cell-7"
    },
    {
      "cell_type": "code",
      "execution_count": 35,
      "metadata": {},
      "outputs": [
        {
          "output_type": "display_data",
          "metadata": {},
          "data": {
            "text/plain": [
              "24"
            ]
          }
        }
      ],
      "source": [
        "params.sample_size"
      ],
      "id": "cell-8"
    },
    {
      "cell_type": "markdown",
      "metadata": {},
      "source": [
        "## Sampling"
      ],
      "id": "babe78b0-9252-46c6-9597-3c20956af59b"
    },
    {
      "cell_type": "code",
      "execution_count": 15,
      "metadata": {},
      "outputs": [],
      "source": [
        "subjects = pd.read_csv('../data/data_table.csv')\n",
        "assert subjects.index.size == params.sample_size"
      ],
      "id": "cell-10"
    },
    {
      "cell_type": "markdown",
      "metadata": {},
      "source": [
        "> **Tip:**  \n",
        "> By adding a label and caption to a cell displaying a table, you can\n",
        "> refer to that table elsewhere and insert it in a manuscript."
      ],
      "id": "6855c8a8-501c-4320-903f-8c8c29bbf97a"
    },
    {
      "cell_type": "code",
      "execution_count": 16,
      "metadata": {},
      "outputs": [],
      "source": [
        "subjects"
      ],
      "id": "1d3cce97-55dc-48d9-b05f-ea068b89ba47"
    },
    {
      "cell_type": "markdown",
      "metadata": {},
      "source": [
        "> **Tip:**  \n",
        "> By generaing markdown for descriptions that will eventually end up in\n",
        "> the manuscript, you can imbed python values. It also ensures that the\n",
        "> manuscript exactly reflects the notebook."
      ],
      "id": "420b3d1b-23a4-408d-b43b-f4761418fd01"
    },
    {
      "cell_type": "code",
      "execution_count": 17,
      "metadata": {},
      "outputs": [],
      "source": [],
      "id": "cell-doc-sampling"
    },
    {
      "cell_type": "markdown",
      "metadata": {},
      "source": [
        "## Interviews"
      ],
      "id": "f4cfefe0-9bfb-4469-8389-951b9063adbc"
    },
    {
      "cell_type": "code",
      "execution_count": 18,
      "metadata": {},
      "outputs": [],
      "source": [],
      "id": "cell-doc-interviews"
    },
    {
      "cell_type": "markdown",
      "metadata": {},
      "source": [
        "In interviewed `{python} params.sample_size` workplace individuals were\n",
        "interviewed by …. blah, blah, blah, blah, blah, blah, blah, blah, blah,\n",
        "blah, blah, blah, blah, blah, blah, blah, blah, blah, blah, blah, blah,\n",
        "blah, blah, blah, blah, blah, blah, blah,"
      ],
      "id": "cb17cb64-1fa0-467a-a981-cd5fc024a260"
    },
    {
      "cell_type": "code",
      "execution_count": 20,
      "metadata": {},
      "outputs": [
        {
          "output_type": "display_data",
          "metadata": {},
          "data": {
            "text/html": [
              "\n",
              "</div>"
            ]
          }
        }
      ],
      "source": [
        "\n",
        "df = pd.DataFrame({'name': subjects.name, \n",
        "                   'seniority': np.random.randint(0, 5, params.sample_size), \n",
        "                   'age': subjects.age})\n",
        "df['informality'] = np.random.normal(loc=10, scale=1, size=params.sample_size)\n",
        "df\n"
      ],
      "id": "cell-18"
    },
    {
      "cell_type": "code",
      "execution_count": 21,
      "metadata": {},
      "outputs": [
        {
          "output_type": "display_data",
          "metadata": {},
          "data": {}
        }
      ],
      "source": [
        "sns.scatterplot(x='age', y='informality', data=df, hue='seniority', palette='viridis')\n",
        "plt.ylabel('How informal you can be')\n",
        "plt.xlabel('Age')\n",
        "plt.legend(title='Seniority', loc='lower right', labels=['Undergrad', 'Postgrad', 'PhD', 'Postdoc', 'Professor'])\n",
        "plt.ylim(bottom=0) ;"
      ],
      "id": "cell-fig-danish-interaction"
    },
    {
      "cell_type": "markdown",
      "metadata": {},
      "source": [
        "Seems Danish people act very informally unaffected by age and seniority."
      ],
      "id": "3a3cf041-ffbe-4f3c-bd3e-89fa5e9020b4"
    },
    {
      "cell_type": "code",
      "execution_count": 22,
      "metadata": {},
      "outputs": [
        {
          "output_type": "display_data",
          "metadata": {},
          "data": {
            "text/plain": [
              "-0.1949220780248677"
            ]
          }
        }
      ],
      "source": [
        "informality_age_cor = df.informality.corr(df.age)\n",
        "informality_age_cor"
      ],
      "id": "cell-22"
    },
    {
      "cell_type": "code",
      "execution_count": 23,
      "metadata": {},
      "outputs": [
        {
          "output_type": "display_data",
          "metadata": {},
          "data": {
            "text/plain": [
              "-0.05515869516915789"
            ]
          }
        }
      ],
      "source": [
        "informality_seniority_cor = df.informality.corr(df.seniority)\n",
        "informality_seniority_cor"
      ],
      "id": "cell-23"
    },
    {
      "cell_type": "code",
      "execution_count": 24,
      "metadata": {},
      "outputs": [],
      "source": [],
      "id": "cell-doc-formality-correlation"
    },
    {
      "cell_type": "code",
      "execution_count": 25,
      "metadata": {},
      "outputs": [
        {
          "output_type": "display_data",
          "metadata": {},
          "data": {}
        }
      ],
      "source": [
        "sns.lmplot(x='age', y='informality', data=df, hue='seniority', palette='viridis')\n",
        "plt.ylabel('How informal you can be')\n",
        "plt.xlabel('Age') ;"
      ],
      "id": "cell-fig-danish-interaction-regressions"
    }
  ],
  "nbformat": 4,
  "nbformat_minor": 5,
  "metadata": {
    "kernelspec": {
      "name": "python3",
      "display_name": "Python 3 (ipykernel)",
      "language": "python"
    },
    "language_info": {
      "name": "python",
      "codemirror_mode": {
        "name": "ipython",
        "version": "3"
      },
      "file_extension": ".py",
      "mimetype": "text/x-python",
      "nbconvert_exporter": "python",
      "pygments_lexer": "ipython3",
      "version": "3.11.3"
    }
  }
}