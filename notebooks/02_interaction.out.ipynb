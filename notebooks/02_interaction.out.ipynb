{
  "cells": [
    {
      "cell_type": "markdown",
      "metadata": {},
      "source": [
        "# Workplace interaction\n",
        "\n",
        "Import some plotting libraries and set some defaults:"
      ],
      "id": "ad88f2fe-09ca-4c41-b628-3ffe47ffbc38"
    },
    {
      "cell_type": "code",
      "execution_count": 30,
      "metadata": {},
      "outputs": [],
      "source": [
        "import sys\n",
        "import numpy as np\n",
        "import pandas as pd\n",
        "from IPython.display import display, Markdown\n",
        "import matplotlib.pyplot as plt\n",
        "import seaborn as sns\n",
        "sns.set()\n",
        "sns.set_style(\"whitegrid\")\n",
        "\n",
        "import random\n",
        "random_seed = 5\n",
        "\n",
        "sys.path.append('..')\n",
        "from global_params import load_params"
      ],
      "id": "cell-3"
    },
    {
      "cell_type": "markdown",
      "metadata": {},
      "source": [
        "> **Tip:**  \n",
        "> Producing figures in svg format (scalable vector graphics) makes for\n",
        "> sharp plots on webpages. However, if you make plots with thousands of\n",
        "> observations you should set this to `'png'` instead:"
      ],
      "id": "03984766-238c-4934-85b1-40bce482e260"
    },
    {
      "cell_type": "code",
      "execution_count": 31,
      "metadata": {},
      "outputs": [],
      "source": [
        "%config InlineBackend.figure_formats = ['svg'] "
      ],
      "id": "cell-5"
    },
    {
      "cell_type": "markdown",
      "metadata": {},
      "source": [
        "> **Tip:**  \n",
        "> Some values apply globally to your analysis. E.g., sample sizes,\n",
        "> cutoffs, names, rates, etc. Keeping those in a a yml file like\n",
        "> `interaction_params.yml` and loading them in each notebook avoids the\n",
        "> risk of manually adding/updating them in each notebook where they are\n",
        "> used. You can use the `load_globals` function imported above from\n",
        "> `global_params.py` to produce an object holding all the global values:"
      ],
      "id": "9748fa3a-578a-4483-9a61-c296bc3a3baf"
    },
    {
      "cell_type": "code",
      "execution_count": 34,
      "metadata": {},
      "outputs": [
        {
          "output_type": "display_data",
          "metadata": {},
          "data": {
            "text/plain": [
              "{'questions': ['Blah blah blah',\n",
              "               'Blah blah blah',\n",
              "               'Blah blah blah',\n",
              "               'Blah blah blah'],\n",
              " 'sample_size': 24}"
            ]
          }
        }
      ],
      "source": [
        "params = load_params('../interact_params.yml')\n",
        "params"
      ],
      "id": "cell-7"
    },
    {
      "cell_type": "code",
      "execution_count": 35,
      "metadata": {},
      "outputs": [
        {
          "output_type": "display_data",
          "metadata": {},
          "data": {
            "text/plain": [
              "24"
            ]
          }
        }
      ],
      "source": [
        "params.sample_size"
      ],
      "id": "cell-8"
    },
    {
      "cell_type": "markdown",
      "metadata": {},
      "source": [
        "## Sampling"
      ],
      "id": "3dd9b61d-d2af-4cbf-82c7-c6f2718f9675"
    },
    {
      "cell_type": "code",
      "execution_count": 15,
      "metadata": {},
      "outputs": [],
      "source": [
        "subjects = pd.read_csv('../data/data_table.csv')\n",
        "assert subjects.index.size == params.sample_size"
      ],
      "id": "cell-10"
    },
    {
      "cell_type": "markdown",
      "metadata": {},
      "source": [
        "> **Tip:**  \n",
        "> By adding a label and caption to a cell displaying a table, you can\n",
        "> refer to that table elsewhere and insert it in a manuscript."
      ],
      "id": "c474370b-cc41-420c-b44f-9cfbaee55525"
    },
    {
      "cell_type": "code",
      "execution_count": 16,
      "metadata": {},
      "outputs": [],
      "source": [
        "subjects"
      ],
      "id": "5c83ac98-78a6-4d74-be0d-386b3a792911"
    },
    {
      "cell_type": "markdown",
      "metadata": {},
      "source": [
        "> **Tip:**  \n",
        "> By generaing markdown for descriptions that will eventually end up in\n",
        "> the manuscript, you can imbed python values. It also ensures that the\n",
        "> manuscript exactly reflects the notebook."
      ],
      "id": "30f88578-a901-4543-aace-2125941d49eb"
    },
    {
      "cell_type": "code",
      "execution_count": 17,
      "metadata": {},
      "outputs": [],
      "source": [],
      "id": "cell-doc-sampling"
    },
    {
      "cell_type": "markdown",
      "metadata": {},
      "source": [
        "## Interviews"
      ],
      "id": "27204842-4e16-4b38-828b-8c8c25c1fef3"
    },
    {
      "cell_type": "code",
      "execution_count": 18,
      "metadata": {},
      "outputs": [],
      "source": [],
      "id": "cell-doc-interviews"
    },
    {
      "cell_type": "markdown",
      "metadata": {},
      "source": [
        "In interviewed `{python} params.sample_size` workplace individuals were\n",
        "interviewed by …. blah, blah, blah, blah, blah, blah, blah, blah, blah,\n",
        "blah, blah, blah, blah, blah, blah, blah, blah, blah, blah, blah, blah,\n",
        "blah, blah, blah, blah, blah, blah, blah,"
      ],
      "id": "695eb5cb-8461-4321-98a3-8c282f87f480"
    },
    {
      "cell_type": "code",
      "execution_count": 20,
      "metadata": {},
      "outputs": [
        {
          "output_type": "display_data",
          "metadata": {},
          "data": {
            "text/html": [
              "\n",
              "</div>"
            ]
          }
        }
      ],
      "source": [
        "\n",
        "df = pd.DataFrame({'name': subjects.name, \n",
        "                   'seniority': np.random.randint(0, 5, params.sample_size), \n",
        "                   'age': subjects.age})\n",
        "df['informality'] = np.random.normal(loc=10, scale=1, size=params.sample_size)\n",
        "df\n"
      ],
      "id": "cell-18"
    },
    {
      "cell_type": "code",
      "execution_count": 21,
      "metadata": {},
      "outputs": [
        {
          "output_type": "display_data",
          "metadata": {},
          "data": {}
        }
      ],
      "source": [
        "sns.scatterplot(x='age', y='informality', data=df, hue='seniority', palette='viridis')\n",
        "plt.ylabel('How informal you can be')\n",
        "plt.xlabel('Age')\n",
        "plt.legend(title='Seniority', loc='lower right', labels=['Undergrad', 'Postgrad', 'PhD', 'Postdoc', 'Professor'])\n",
        "plt.ylim(bottom=0) ;"
      ],
      "id": "cell-fig-danish-interaction"
    },
    {
      "cell_type": "markdown",
      "metadata": {},
      "source": [
        "Seems Danish people act very informally unaffected by age and seniority."
      ],
      "id": "917d0f63-055f-46a9-8623-76b7c4a3e93d"
    },
    {
      "cell_type": "code",
      "execution_count": 22,
      "metadata": {},
      "outputs": [
        {
          "output_type": "display_data",
          "metadata": {},
          "data": {
            "text/plain": [
              "-0.1949220780248677"
            ]
          }
        }
      ],
      "source": [
        "informality_age_cor = df.informality.corr(df.age)\n",
        "informality_age_cor"
      ],
      "id": "cell-22"
    },
    {
      "cell_type": "code",
      "execution_count": 23,
      "metadata": {},
      "outputs": [
        {
          "output_type": "display_data",
          "metadata": {},
          "data": {
            "text/plain": [
              "-0.05515869516915789"
            ]
          }
        }
      ],
      "source": [
        "informality_seniority_cor = df.informality.corr(df.seniority)\n",
        "informality_seniority_cor"
      ],
      "id": "cell-23"
    },
    {
      "cell_type": "code",
      "execution_count": 24,
      "metadata": {},
      "outputs": [],
      "source": [],
      "id": "cell-doc-formality-correlation"
    },
    {
      "cell_type": "code",
      "execution_count": 25,
      "metadata": {},
      "outputs": [
        {
          "output_type": "display_data",
          "metadata": {},
          "data": {}
        }
      ],
      "source": [
        "sns.lmplot(x='age', y='informality', data=df, hue='seniority', palette='viridis')\n",
        "plt.ylabel('How informal you can be')\n",
        "plt.xlabel('Age') ;"
      ],
      "id": "cell-fig-danish-interaction-regressions"
    }
  ],
  "nbformat": 4,
  "nbformat_minor": 5,
  "metadata": {
    "kernelspec": {
      "name": "python3",
      "display_name": "Python 3 (ipykernel)",
      "language": "python"
    },
    "language_info": {
      "name": "python",
      "codemirror_mode": {
        "name": "ipython",
        "version": "3"
      },
      "file_extension": ".py",
      "mimetype": "text/x-python",
      "nbconvert_exporter": "python",
      "pygments_lexer": "ipython3",
      "version": "3.11.3"
    }
  }
}